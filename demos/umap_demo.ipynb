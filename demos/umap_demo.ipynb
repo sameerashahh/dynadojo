{
  "cells": [
    {
      "cell_type": "code",
      "execution_count": 1,
      "metadata": {
        "id": "owoB4JDWIomf"
      },
      "outputs": [],
      "source": [
        "import matplotlib.pyplot as plt\n",
        "import umap\n",
        "import numpy as np"
      ]
    },
    {
      "cell_type": "code",
      "execution_count": 3,
      "metadata": {
        "id": "UxTmmLkQ50OY"
      },
      "outputs": [],
      "source": [
        "from dynadojo.systems.lorenz import LorenzSystem\n",
        "from dynadojo.systems.kuramoto import KuramotoSystem"
      ]
    },
    {
      "cell_type": "code",
      "execution_count": 4,
      "metadata": {
        "colab": {
          "base_uri": "https://localhost:8080/",
          "height": 427
        },
        "id": "AYAtnbqA6Ks6",
        "outputId": "8ee7976e-0bad-45c7-de22-e4306df0a366"
      },
      "outputs": [],
      "source": [
        "# generate trajectories for lorenz, kuramoto\n",
        "latent_dim = 19\n",
        "embed_dim = latent_dim\n",
        "n = 50\n",
        "test_size = 30\n",
        "timesteps = 50\n",
        "\n",
        "systems = [LorenzSystem(latent_dim, embed_dim, noise_scale=0), KuramotoSystem(latent_dim=latent_dim, embed_dim=embed_dim)] \n",
        "\n",
        "trajectories = []\n",
        "for system in systems:\n",
        "    x0 = system.make_init_conds(30) \n",
        "    x = system.make_data(x0, timesteps=timesteps, control=np.zeros((n, timesteps, embed_dim)))\n",
        "    trajectories.append(x)"
      ]
    },
    {
      "cell_type": "code",
      "execution_count": 5,
      "metadata": {
        "id": "-nRpel6FkL2Z"
      },
      "outputs": [],
      "source": [
        "def featurize(x):\n",
        "    return np.mean(x, axis=1)\n",
        "\n",
        "all_features = []\n",
        "\n",
        "for traj in trajectories:\n",
        "    features = featurize(traj)\n",
        "    all_features.append(features)\n",
        "\n",
        "\n",
        "all_features = np.concatenate(all_features)"
      ]
    },
    {
      "cell_type": "code",
      "execution_count": 7,
      "metadata": {
        "colab": {
          "base_uri": "https://localhost:8080/"
        },
        "id": "8gKO78RMzI-4",
        "outputId": "e12beb85-814c-46bf-ca02-903ba72cf8a6"
      },
      "outputs": [
        {
          "data": {
            "image/png": "[encoded data removed]",
            "text/plain": [
              "<Figure size 640x480 with 1 Axes>"
            ]
          },
          "metadata": {},
          "output_type": "display_data"
        }
      ],
      "source": [
        "reducer = umap.UMAP(n_components=2)\n",
        "reduced_features = reducer.fit_transform(all_features)\n",
        "\n",
        "plt.plot(reduced_features[:, 0], reduced_features[:, 1], '.')\n",
        "plt.xlabel('UMAP 1')\n",
        "plt.ylabel('UMAP 2')\n",
        "plt.show()"
      ]
    },
    {
      "cell_type": "code",
      "execution_count": null,
      "metadata": {},
      "outputs": [],
      "source": []
    }
  ],
  "metadata": {
    "colab": {
      "provenance": []
    },
    "kernelspec": {
      "display_name": "Python 3",
      "name": "python3"
    },
    "language_info": {
      "codemirror_mode": {
        "name": "ipython",
        "version": 3
      },
      "file_extension": ".py",
      "mimetype": "text/x-python",
      "name": "python",
      "nbconvert_exporter": "python",
      "pygments_lexer": "ipython3",
      "version": "3.10.14"
    }
  },
  "nbformat": 4,
  "nbformat_minor": 0
}
